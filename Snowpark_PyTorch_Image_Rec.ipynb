{
 "cells": [
  {
   "attachments": {},
   "cell_type": "markdown",
   "id": "3c443ab7-70ce-42d6-9884-2708b2651614",
   "metadata": {},
   "source": [
    "# Image Recognition in Snowflake using Snowpark Python and PyTorch\n",
    "\n",
    "_For comments and feedback, please reach out to [Dash](https://twitter.com/iamontheinet)_.\n"
   ]
  },
  {
   "cell_type": "code",
   "execution_count": null,
   "id": "c9d57b21-7720-40a0-9a95-8431e0dd1e22",
   "metadata": {},
   "outputs": [],
   "source": [
    "# Snowpark\n",
    "from snowflake.snowpark.session import Session\n",
    "from snowflake.snowpark.functions import udf\n",
    "from snowflake.snowpark.version import VERSION\n",
    "\n",
    "# Misc\n",
    "import pandas as pd\n",
    "import json\n",
    "import cachetools\n",
    "import logging \n",
    "logger = logging.getLogger(\"snowflake.snowpark.session\")\n",
    "logger.setLevel(logging.ERROR)"
   ]
  },
  {
   "attachments": {},
   "cell_type": "markdown",
   "id": "fb72f258-f220-4bf8-9f77-6f0fc05df328",
   "metadata": {},
   "source": [
    "### Establish Secure Connection to Snowflake\n",
    "\n",
    "Using the Snowpark API, it’s quick and easy to establish a secure connection between Snowflake and Notebook.\n",
    "\n",
    " *Connection options: Username/Password, MFA, OAuth, Okta, SSO*"
   ]
  },
  {
   "cell_type": "code",
   "execution_count": null,
   "id": "0defcbba-9ae1-4d1e-a44a-28b26cb837d8",
   "metadata": {},
   "outputs": [],
   "source": [
    "# Create Snowflake Session object\n",
    "connection_parameters = json.load(open('connection.json'))\n",
    "session = Session.builder.configs(connection_parameters).create()\n",
    "session.sql_simplifier_enabled = True\n",
    "\n",
    "snowflake_environment = session.sql('select current_user(), current_role(), current_database(), current_schema(), current_version(), current_warehouse()').collect()\n",
    "snowpark_version = VERSION\n",
    "\n",
    "# Current Environment Details\n",
    "print('User                        : {}'.format(snowflake_environment[0][0]))\n",
    "print('Role                        : {}'.format(snowflake_environment[0][1]))\n",
    "print('Database                    : {}'.format(snowflake_environment[0][2]))\n",
    "print('Schema                      : {}'.format(snowflake_environment[0][3]))\n",
    "print('Warehouse                   : {}'.format(snowflake_environment[0][5]))\n",
    "print('Snowflake version           : {}'.format(snowflake_environment[0][4]))\n",
    "print('Snowpark for Python version : {}.{}.{}'.format(snowpark_version[0],snowpark_version[1],snowpark_version[2]))"
   ]
  },
  {
   "attachments": {},
   "cell_type": "markdown",
   "id": "a802412b",
   "metadata": {},
   "source": [
    "### Upload MobileNet V3 files to Snowflake Internal stage"
   ]
  },
  {
   "cell_type": "code",
   "execution_count": null,
   "id": "31f8ed41",
   "metadata": {},
   "outputs": [],
   "source": [
    "session.file.put('imagenet1000_clsidx_to_labels.txt','@dash_files',overwrite=True,auto_compress=False)\n",
    "session.file.put('mobilenetv3.py','@dash_files',overwrite=True,auto_compress=False)\n",
    "session.file.put('mobilenetv3-large-1cd25616.pth','@dash_files',overwrite=True,auto_compress=False)"
   ]
  },
  {
   "attachments": {},
   "cell_type": "markdown",
   "id": "e45c42f1",
   "metadata": {},
   "source": [
    "### Snowpark Python User-Defined Function (UDF) for image recognition\n",
    "\n",
    "Now to deploy the pre-trained model for inference, let's **create and register a Snowpark Python UDF and add the model files as dependencies**. Once registered, getting new predictions is as simple as calling the function by passing in data.\n",
    "\n",
    "*NOTE: Scalar UDFs operate on a single row / set of data points and are great for online inference in real-time. And this UDF is called from [Snowpark_PyTorch_Streamlit_Upload_Image_Rec](Snowpark_PyTorch_Streamlit_Upload_Image_Rec.py) and [Snowpark_PyTorch_Streamlit_OpenAI_Image_Rec](Snowpark_PyTorch_Streamlit_OpenAI_Image_Rec.py) Streamlit apps.*\n",
    "\n",
    "TIP: For more information on Snowpark Python User-Defined Functions, refer to the [docs](https://docs.snowflake.com/en/developer-guide/snowpark/python/creating-udfs.html)."
   ]
  },
  {
   "cell_type": "code",
   "execution_count": null,
   "id": "a5a53131",
   "metadata": {},
   "outputs": [],
   "source": [
    "session.clear_packages()\n",
    "session.clear_imports()\n",
    "\n",
    "# Add model files and test images as dependencies on the UDF\n",
    "session.add_import('@dash_files/imagenet1000_clsidx_to_labels.txt')\n",
    "session.add_import('@dash_files/mobilenetv3.py')\n",
    "session.add_import('@dash_files/mobilenetv3-large-1cd25616.pth')\n",
    "\n",
    "# Add Python packages from Snowflke Anaconda channel\n",
    "session.add_packages('snowflake-snowpark-python','torchvision','joblib','cachetools')\n",
    "\n",
    "@cachetools.cached(cache={})\n",
    "def load_class_mapping(filename):\n",
    "  with open(filename, \"r\") as f:\n",
    "   return f.read()\n",
    "\n",
    "@cachetools.cached(cache={})\n",
    "def load_model():\n",
    "  import sys\n",
    "  import torch\n",
    "  from torchvision import models, transforms\n",
    "  import ast\n",
    "  from mobilenetv3 import mobilenetv3_large\n",
    "\n",
    "  IMPORT_DIRECTORY_NAME = \"snowflake_import_directory\"\n",
    "  import_dir = sys._xoptions[IMPORT_DIRECTORY_NAME]\n",
    "\n",
    "  model_file = import_dir + 'mobilenetv3-large-1cd25616.pth'\n",
    "  imgnet_class_mapping_file = import_dir + 'imagenet1000_clsidx_to_labels.txt'\n",
    "\n",
    "  IMAGENET_DEFAULT_MEAN, IMAGENET_DEFAULT_STD = ((0.485, 0.456, 0.406), (0.229, 0.224, 0.225))\n",
    "\n",
    "  transform = transforms.Compose([\n",
    "      transforms.Resize(256, interpolation=transforms.InterpolationMode.BICUBIC),\n",
    "      transforms.CenterCrop(224),\n",
    "      transforms.ToTensor(),\n",
    "      transforms.Normalize(IMAGENET_DEFAULT_MEAN, IMAGENET_DEFAULT_STD)\n",
    "  ])\n",
    "\n",
    "  # Load the Imagenet {class: label} mapping\n",
    "  cls_idx = load_class_mapping(imgnet_class_mapping_file)\n",
    "  cls_idx = ast.literal_eval(cls_idx)\n",
    "\n",
    "  # Load pretrained image recognition model\n",
    "  model = mobilenetv3_large()\n",
    "  model.load_state_dict(torch.load(model_file))\n",
    "\n",
    "  # Configure pretrained model for inference\n",
    "  model.eval().requires_grad_(False)\n",
    "\n",
    "  return model, transform, cls_idx\n",
    "\n",
    "def load_image(image_bytes_in_str):\n",
    "  import os\n",
    "  image_file = '/tmp/' + str(os.getpid())\n",
    "  image_bytes_in_hex = bytes.fromhex(image_bytes_in_str)\n",
    "\n",
    "  with open(image_file, 'wb') as f:\n",
    "    f.write(image_bytes_in_hex)\n",
    "\n",
    "  return open(image_file, 'rb')\n",
    "\n",
    "@udf(name='image_recognition_using_bytes',session=session,replace=True,is_permanent=True,stage_location='@dash_files')\n",
    "def image_recognition_using_bytes(image_bytes_in_str: str) -> str:\n",
    "  import sys\n",
    "  import torch\n",
    "  from PIL import Image\n",
    "  import os\n",
    "\n",
    "  model, transform, cls_idx = load_model()\n",
    "  img = Image.open(load_image(image_bytes_in_str)).convert('RGB')\n",
    "  img = transform(img).unsqueeze(0)\n",
    "\n",
    "  # Get model output and human text prediction\n",
    "  logits = model(img)\n",
    "\n",
    "  outp = torch.nn.functional.softmax(logits, dim=1)\n",
    "  _, idx = torch.topk(outp, 1)\n",
    "  idx.squeeze_()\n",
    "  predicted_label = cls_idx[idx.item()]\n",
    "\n",
    "  return f\"{predicted_label}\""
   ]
  },
  {
   "attachments": {},
   "cell_type": "markdown",
   "id": "ab629365",
   "metadata": {},
   "source": [
    "*NOTE: This UDF is called from [Snowpark_PyTorch_Streamlit_Upload_Image_Rec](Snowpark_PyTorch_Streamlit_Upload_Image_Rec.py) and [Snowpark_PyTorch_Streamlit_OpenAI_Image_Rec](Snowpark_PyTorch_Streamlit_OpenAI_Image_Rec.py) Streamlit apps.*"
   ]
  }
 ],
 "metadata": {
  "kernelspec": {
   "display_name": "snowpark-img-rec",
   "language": "python",
   "name": "python3"
  },
  "language_info": {
   "codemirror_mode": {
    "name": "ipython",
    "version": 3
   },
   "file_extension": ".py",
   "mimetype": "text/x-python",
   "name": "python",
   "nbconvert_exporter": "python",
   "pygments_lexer": "ipython3",
   "version": "3.8.15 (default, Nov 24 2022, 09:04:07) \n[Clang 14.0.6 ]"
  },
  "vscode": {
   "interpreter": {
    "hash": "80dd599ee9a854293af3fe6cea99dcbf69fd37c3a4a4fc1db31d3eee29094f56"
   }
  }
 },
 "nbformat": 4,
 "nbformat_minor": 5
}
